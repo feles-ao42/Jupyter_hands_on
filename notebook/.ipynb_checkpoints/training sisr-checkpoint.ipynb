{
 "cells": [
  {
   "cell_type": "code",
   "execution_count": null,
   "id": "5e021ff4-f5ba-40b3-a4ef-4dfd6d16c23c",
   "metadata": {},
   "outputs": [],
   "source": [
    "# Training"
   ]
  },
  {
   "cell_type": "code",
   "execution_count": 11,
   "id": "698a89a3-0dd4-4d57-9725-05b1fe7d9a5c",
   "metadata": {
    "tags": []
   },
   "outputs": [],
   "source": [
    "#!pip3 install torch torchvision torchaudio datasets"
   ]
  },
  {
   "cell_type": "code",
   "execution_count": 15,
   "id": "db4d3757-870f-4488-bebd-478ad7fc7c58",
   "metadata": {},
   "outputs": [
    {
     "ename": "ModuleNotFoundError",
     "evalue": "No module named 'models'",
     "output_type": "error",
     "traceback": [
      "\u001b[0;31m---------------------------------------------------------------------------\u001b[0m",
      "\u001b[0;31mModuleNotFoundError\u001b[0m                       Traceback (most recent call last)",
      "Cell \u001b[0;32mIn[15], line 4\u001b[0m\n\u001b[1;32m      2\u001b[0m \u001b[38;5;28;01mimport\u001b[39;00m \u001b[38;5;21;01mtorchvision\u001b[39;00m\u001b[38;5;21;01m.\u001b[39;00m\u001b[38;5;21;01mtransforms\u001b[39;00m \u001b[38;5;28;01mas\u001b[39;00m \u001b[38;5;21;01mtransforms\u001b[39;00m\n\u001b[1;32m      3\u001b[0m \u001b[38;5;66;03m# from datasets import SRDataset\u001b[39;00m\n\u001b[0;32m----> 4\u001b[0m \u001b[38;5;28;01mfrom\u001b[39;00m \u001b[38;5;21;01mmodels\u001b[39;00m\u001b[38;5;21;01m.\u001b[39;00m\u001b[38;5;21;01msrgan\u001b[39;00m \u001b[38;5;28;01mimport\u001b[39;00m SRGAN\n\u001b[1;32m      6\u001b[0m \u001b[38;5;66;03m# Define the image transformations\u001b[39;00m\n\u001b[1;32m      7\u001b[0m train_transform \u001b[38;5;241m=\u001b[39m transforms\u001b[38;5;241m.\u001b[39mCompose([\n\u001b[1;32m      8\u001b[0m     transforms\u001b[38;5;241m.\u001b[39mRandomCrop(\u001b[38;5;241m96\u001b[39m),\n\u001b[1;32m      9\u001b[0m     transforms\u001b[38;5;241m.\u001b[39mRandomHorizontalFlip(),\n\u001b[1;32m     10\u001b[0m     transforms\u001b[38;5;241m.\u001b[39mToTensor(),\n\u001b[1;32m     11\u001b[0m     transforms\u001b[38;5;241m.\u001b[39mNormalize(mean\u001b[38;5;241m=\u001b[39m[\u001b[38;5;241m0.5\u001b[39m, \u001b[38;5;241m0.5\u001b[39m, \u001b[38;5;241m0.5\u001b[39m], std\u001b[38;5;241m=\u001b[39m[\u001b[38;5;241m0.5\u001b[39m, \u001b[38;5;241m0.5\u001b[39m, \u001b[38;5;241m0.5\u001b[39m])\n\u001b[1;32m     12\u001b[0m ])\n",
      "\u001b[0;31mModuleNotFoundError\u001b[0m: No module named 'models'"
     ]
    }
   ],
   "source": [
    "import torch\n",
    "import torchvision.transforms as transforms\n",
    "# from datasets import SRDataset\n",
    "from models.srgan import SRGAN\n",
    "\n",
    "# Define the image transformations\n",
    "train_transform = transforms.Compose([\n",
    "    transforms.RandomCrop(96),\n",
    "    transforms.RandomHorizontalFlip(),\n",
    "    transforms.ToTensor(),\n",
    "    transforms.Normalize(mean=[0.5, 0.5, 0.5], std=[0.5, 0.5, 0.5])\n",
    "])\n",
    "\n",
    "# Load the training dataset\n",
    "train_dataset = SRDataset(\"train_images/\", transform=train_transform)\n",
    "\n",
    "# Define the data loader\n",
    "train_loader = torch.utils.data.DataLoader(\n",
    "    train_dataset, batch_size=16, shuffle=True, num_workers=4, pin_memory=True\n",
    ")\n",
    "\n",
    "# Load the SRGAN model\n",
    "model = SRGAN()\n",
    "\n",
    "# Define the loss function and optimizer\n",
    "criterion = torch.nn.MSELoss()\n",
    "optimizer = torch.optim.Adam(model.parameters(), lr=0.0001)\n",
    "\n",
    "# Train the model for 100 epochs\n",
    "for epoch in range(100):\n",
    "    for i, (lr_imgs, hr_imgs) in enumerate(train_loader):\n",
    "        optimizer.zero_grad()\n",
    "        sr_imgs = model(lr_imgs)\n",
    "        loss = criterion(sr_imgs, hr_imgs)\n",
    "        loss.backward()\n",
    "        optimizer.step()\n",
    "        print(f\"Epoch {epoch}, Batch {i}, Loss {loss.item()}\")\n"
   ]
  },
  {
   "cell_type": "code",
   "execution_count": 13,
   "id": "426e0875-03ca-482b-acf4-636b8ee09234",
   "metadata": {},
   "outputs": [
    {
     "ename": "ImportError",
     "evalue": "cannot import name 'SRDataset' from 'datasets' (/opt/conda/lib/python3.10/site-packages/datasets/__init__.py)",
     "output_type": "error",
     "traceback": [
      "\u001b[0;31m---------------------------------------------------------------------------\u001b[0m",
      "\u001b[0;31mImportError\u001b[0m                               Traceback (most recent call last)",
      "Cell \u001b[0;32mIn[13], line 3\u001b[0m\n\u001b[1;32m      1\u001b[0m \u001b[38;5;28;01mimport\u001b[39;00m \u001b[38;5;21;01mtorch\u001b[39;00m\n\u001b[1;32m      2\u001b[0m \u001b[38;5;28;01mimport\u001b[39;00m \u001b[38;5;21;01mtorchvision\u001b[39;00m\u001b[38;5;21;01m.\u001b[39;00m\u001b[38;5;21;01mtransforms\u001b[39;00m \u001b[38;5;28;01mas\u001b[39;00m \u001b[38;5;21;01mtransforms\u001b[39;00m\n\u001b[0;32m----> 3\u001b[0m \u001b[38;5;28;01mfrom\u001b[39;00m \u001b[38;5;21;01mdatasets\u001b[39;00m \u001b[38;5;28;01mimport\u001b[39;00m SRDataset\n\u001b[1;32m      4\u001b[0m \u001b[38;5;28;01mfrom\u001b[39;00m \u001b[38;5;21;01mmodels\u001b[39;00m\u001b[38;5;21;01m.\u001b[39;00m\u001b[38;5;21;01mesrgan\u001b[39;00m \u001b[38;5;28;01mimport\u001b[39;00m ESRGAN\n\u001b[1;32m      6\u001b[0m \u001b[38;5;66;03m# Define the image transformations\u001b[39;00m\n",
      "\u001b[0;31mImportError\u001b[0m: cannot import name 'SRDataset' from 'datasets' (/opt/conda/lib/python3.10/site-packages/datasets/__init__.py)"
     ]
    }
   ],
   "source": [
    "import torch\n",
    "import torchvision.transforms as transforms\n",
    "from datasets import SRDataset\n",
    "from models.esrgan import ESRGAN\n",
    "\n",
    "# Define the image transformations\n",
    "train_transform = transforms.Compose([\n",
    "    transforms.RandomCrop(96),\n",
    "    transforms.RandomHorizontalFlip(),\n",
    "    transforms.ToTensor(),\n",
    "    transforms.Normalize(mean=[0.5, 0.5, 0.5], std=[0.5, 0.5, 0.5])\n",
    "])\n",
    "\n",
    "# Load the training dataset\n",
    "train_dataset = SRDataset(\"train_images/\", transform=train_transform)\n",
    "\n",
    "# Define the data loader\n",
    "train_loader = torch.utils.data.DataLoader(\n",
    "    train_dataset, batch_size=16, shuffle=True, num_workers=4, pin_memory=True\n",
    ")\n",
    "\n",
    "# Load the ESRGAN model\n",
    "model = ESRGAN()\n",
    "\n",
    "# Define the loss function and optimizer\n",
    "criterion = torch.nn.L1Loss()\n",
    "optimizer = torch.optim.Adam(model.parameters(), lr=0.0002, betas=(0.9, 0.999))\n",
    "\n",
    "# Train the model for 100 epochs\n",
    "for epoch in range(100):\n",
    "    for i, (lr_imgs, hr_imgs) in enumerate(train_loader):\n",
    "        optimizer.zero_grad()\n",
    "        sr_imgs = model(lr_imgs)\n",
    "        loss = criterion(sr_imgs, hr_imgs)\n",
    "        loss.backward()\n",
    "        optimizer.step()\n",
    "        print(f\"Epoch {epoch}, Batch {i}, Loss {loss.item()}\")\n",
    "\n",
    "    # Save the model checkpoint\n",
    "    torch.save(model.state_dict(), f\"models/esrgan_epoch_{epoch}.pth\")\n"
   ]
  },
  {
   "cell_type": "code",
   "execution_count": 14,
   "id": "8067b87c-1a7b-43e9-b790-09ea74c4d472",
   "metadata": {},
   "outputs": [
    {
     "ename": "ImportError",
     "evalue": "cannot import name 'SRDataset' from 'datasets' (/opt/conda/lib/python3.10/site-packages/datasets/__init__.py)",
     "output_type": "error",
     "traceback": [
      "\u001b[0;31m---------------------------------------------------------------------------\u001b[0m",
      "\u001b[0;31mImportError\u001b[0m                               Traceback (most recent call last)",
      "Cell \u001b[0;32mIn[14], line 3\u001b[0m\n\u001b[1;32m      1\u001b[0m \u001b[38;5;28;01mimport\u001b[39;00m \u001b[38;5;21;01mtorch\u001b[39;00m\n\u001b[1;32m      2\u001b[0m \u001b[38;5;28;01mimport\u001b[39;00m \u001b[38;5;21;01mtorchvision\u001b[39;00m\u001b[38;5;21;01m.\u001b[39;00m\u001b[38;5;21;01mtransforms\u001b[39;00m \u001b[38;5;28;01mas\u001b[39;00m \u001b[38;5;21;01mtransforms\u001b[39;00m\n\u001b[0;32m----> 3\u001b[0m \u001b[38;5;28;01mfrom\u001b[39;00m \u001b[38;5;21;01mdatasets\u001b[39;00m \u001b[38;5;28;01mimport\u001b[39;00m SRDataset\n\u001b[1;32m      4\u001b[0m \u001b[38;5;28;01mfrom\u001b[39;00m \u001b[38;5;21;01mmodels\u001b[39;00m\u001b[38;5;21;01m.\u001b[39;00m\u001b[38;5;21;01mstable_sr\u001b[39;00m \u001b[38;5;28;01mimport\u001b[39;00m StableSR\n\u001b[1;32m      6\u001b[0m \u001b[38;5;66;03m# Define the image transformations\u001b[39;00m\n",
      "\u001b[0;31mImportError\u001b[0m: cannot import name 'SRDataset' from 'datasets' (/opt/conda/lib/python3.10/site-packages/datasets/__init__.py)"
     ]
    }
   ],
   "source": [
    "import torch\n",
    "import torchvision.transforms as transforms\n",
    "from datasets import SRDataset\n",
    "from models.stable_sr import StableSR\n",
    "\n",
    "# Define the image transformations\n",
    "train_transform = transforms.Compose([\n",
    "    transforms.RandomCrop(96),\n",
    "    transforms.RandomHorizontalFlip(),\n",
    "    transforms.ToTensor(),\n",
    "    transforms.Normalize(mean=[0.5, 0.5, 0.5], std=[0.5, 0.5, 0.5])\n",
    "])\n",
    "\n",
    "# Load the training dataset\n",
    "train_dataset = SRDataset(\"train_images/\", transform=train_transform)\n",
    "\n",
    "# Define the data loader\n",
    "train_loader = torch.utils.data.DataLoader(\n",
    "    train_dataset, batch_size=16, shuffle=True, num_workers=4, pin_memory=True\n",
    ")\n",
    "\n",
    "# Load the stable SR model\n",
    "model = StableSR()\n",
    "\n",
    "# Define the loss function and optimizer\n",
    "criterion = torch.nn.L1Loss()\n",
    "optimizer = torch.optim.Adam(model.parameters(), lr=0.0002, betas=(0.5, 0.999))\n",
    "\n",
    "# Train the model for 100 epochs\n",
    "for epoch in range(100):\n",
    "    for i, (lr_imgs, hr_imgs) in enumerate(train_loader):\n",
    "        optimizer.zero_grad()\n",
    "        sr_imgs = model(lr_imgs)\n",
    "        loss = criterion(sr_imgs, hr_imgs)\n",
    "        loss.backward()\n",
    "        optimizer.step()\n",
    "        print(f\"Epoch {epoch}, Batch {i}, Loss {loss.item()}\")\n",
    "\n",
    "    # Save the model checkpoint\n",
    "    torch.save(model.state_dict(), f\"models/stable_sr_epoch_{epoch}.pth\")\n"
   ]
  }
 ],
 "metadata": {
  "kernelspec": {
   "display_name": "Python 3 (ipykernel)",
   "language": "python",
   "name": "python3"
  },
  "language_info": {
   "codemirror_mode": {
    "name": "ipython",
    "version": 3
   },
   "file_extension": ".py",
   "mimetype": "text/x-python",
   "name": "python",
   "nbconvert_exporter": "python",
   "pygments_lexer": "ipython3",
   "version": "3.10.9"
  }
 },
 "nbformat": 4,
 "nbformat_minor": 5
}
