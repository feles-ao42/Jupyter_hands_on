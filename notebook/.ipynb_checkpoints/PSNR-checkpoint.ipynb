{
 "cells": [
  {
   "cell_type": "code",
   "execution_count": 28,
   "id": "8d482a80-7965-4475-9bf5-7a2a856a3979",
   "metadata": {
    "tags": []
   },
   "outputs": [
    {
     "name": "stdout",
     "output_type": "stream",
     "text": [
      "Requirement already satisfied: tqdm in /opt/conda/lib/python3.10/site-packages (4.64.1)\n"
     ]
    }
   ],
   "source": [
    "#!pip3 install opencv-contrib-python\n",
    "#!pip3 install lpips\n",
    "#!pip3 install tensorflow\n",
    "#!pip3 install tqdm\n",
    "import cv2\n",
    "import subprocess as sp\n",
    "import sys\n",
    "import numpy as np\n",
    "import lpips\n",
    "import torch\n",
    "import tensorflow as tf\n",
    "import torchvision.transforms.functional as TF\n",
    "from PIL import Image\n",
    "from tqdm import tqdm"
   ]
  },
  {
   "cell_type": "code",
   "execution_count": 111,
   "id": "7882c17c-94b6-4cc3-8b85-7c5a63b31c79",
   "metadata": {
    "tags": []
   },
   "outputs": [],
   "source": [
    "# img_org = cv2.imread('./IMAGE/normal/DJI_20220921133612_0001_W.JPG')\n",
    "# img_swinir = cv2.imread('./IMAGE/swinir/DJI_20220921133612_0001_W_SwinIR.png')\n",
    "\n",
    "# print(cv2.PSNR(img_swinir, img_swinir))"
   ]
  },
  {
   "cell_type": "code",
   "execution_count": 13,
   "id": "deaeb9ef-d724-4822-b6d9-15d4ad8f482a",
   "metadata": {
    "tags": []
   },
   "outputs": [],
   "source": [
    "def make_ls_list(input_path):\n",
    "    ls_cmd = \"ls %s\" % input_path\n",
    "    proc = sp.Popen(ls_cmd, shell=True, stdout=sp.PIPE, stderr=sp.PIPE)\n",
    "    std_out, std_err = proc.communicate()\n",
    "    ls_file_name = std_out.decode('utf-8').rstrip().split('\\n')\n",
    "    return ls_file_name"
   ]
  },
  {
   "cell_type": "code",
   "execution_count": 33,
   "id": "6f8217c5-6607-43d7-b8a7-b889c15f2192",
   "metadata": {
    "tags": []
   },
   "outputs": [],
   "source": [
    "def ev_psnr(normal_path,sisr_path):\n",
    "    normal_images= make_ls_list(normal_path)\n",
    "    sisr_images = make_ls_list(sisr_path)\n",
    "    psnr_value_list = []\n",
    "    file_pointer = 0\n",
    "    for num in tqdm(normal_images):\n",
    "        img_normal = cv2.imread(normal_path+normal_images[file_pointer])\n",
    "        img_sisr = cv2.imread(sisr_path+sisr_images[file_pointer])\n",
    "        psnr_value = cv2.PSNR(img_normal, img_sisr)\n",
    "        psnr_value_list.append(psnr_value)\n",
    "        file_pointer+=1\n",
    "    psnr_value_ave = np.mean(psnr_value_list)\n",
    "    return(psnr_value_ave)"
   ]
  },
  {
   "cell_type": "code",
   "execution_count": 34,
   "id": "7878cc3d-5f73-4fab-94a2-45defff174eb",
   "metadata": {
    "tags": []
   },
   "outputs": [
    {
     "name": "stdout",
     "output_type": "stream",
     "text": [
      "Setting up [LPIPS] perceptual loss: trunk [alex], v[0.1], spatial [off]\n",
      "Loading model from: /opt/conda/lib/python3.10/site-packages/lpips/weights/v0.1/alex.pth\n",
      "Setting up [LPIPS] perceptual loss: trunk [vgg], v[0.1], spatial [off]\n",
      "Loading model from: /opt/conda/lib/python3.10/site-packages/lpips/weights/v0.1/vgg.pth\n"
     ]
    }
   ],
   "source": [
    "loss_fn_alex = lpips.LPIPS(net='alex') # best forward scores\n",
    "loss_fn_vgg = lpips.LPIPS(net='vgg') # closer to \"traditional\" perceptual loss, when used for optimization\n",
    "\n",
    "def ev_lpips(normal_path,sisr_path):\n",
    "    normal_images= make_ls_list(normal_path)\n",
    "    sisr_images = make_ls_list(sisr_path)\n",
    "    psnr_value_list = []\n",
    "    file_pointer=0\n",
    "    for num in tqdm(normal_images):\n",
    "        img_normal = Image.open(normal_path+normal_images[file_pointer])\n",
    "        img_normal = (TF.to_tensor(img_normal) - 0.5) * 2\n",
    "        img_normal.unsqueeze(0)\n",
    "        img_sisr = Image.open(sisr_path+sisr_images[file_pointer])\n",
    "        img_sisr = (TF.to_tensor(img_sisr) - 0.5) * 2\n",
    "        img_sisr.unsqueeze(0)        \n",
    "        psnr_value = loss_fn_alex(img_normal, img_sisr).detach().cpu().numpy()\n",
    "        psnr_value_list.append(psnr_value[0][0][0][0])\n",
    "        file_pointer+=1\n",
    "    psnr_value_ave = np.mean(psnr_value_list)\n",
    "    return(psnr_value_ave)"
   ]
  },
  {
   "cell_type": "code",
   "execution_count": null,
   "id": "477ac1e0-8c63-4224-aa69-347a6975b3a2",
   "metadata": {
    "tags": []
   },
   "outputs": [],
   "source": [
    "normal_path = \"./IMAGE/normal/3_1/\"\n",
    "sisr_path = \"./IMAGE/Real-ESRGAN/3_2/\"\n",
    "\n",
    "#print(ev_psnr(normal_path,sisr_path))\n",
    "print(ev_lpips(normal_path,sisr_path))"
   ]
  },
  {
   "cell_type": "code",
   "execution_count": null,
   "id": "fe95600e-70c2-4d74-884d-8bf2ef80304e",
   "metadata": {
    "tags": []
   },
   "outputs": [],
   "source": [
    "normal_path = \"./IMAGE/normal/6_1/\"\n",
    "sisr_path = \"./IMAGE/Real-ESRGAN/6_2/\"\n",
    "\n",
    "#print(ev_psnr(normal_path,sisr_path))\n",
    "print(ev_lpips(normal_path,sisr_path))"
   ]
  },
  {
   "cell_type": "code",
   "execution_count": null,
   "id": "7ca3ae1e-6443-4e23-b5a3-15dd9f9b461d",
   "metadata": {
    "tags": []
   },
   "outputs": [],
   "source": [
    "normal_path = \"./IMAGE/normal/12_1/\"\n",
    "sisr_path = \"./IMAGE/Real-ESRGAN/12_2/\"\n",
    "\n",
    "#print(ev_psnr(normal_path,sisr_path))\n",
    "print(ev_lpips(normal_path,sisr_path))"
   ]
  },
  {
   "cell_type": "code",
   "execution_count": null,
   "id": "ef6e178b-bfe5-4596-b156-6840ac05562b",
   "metadata": {
    "tags": []
   },
   "outputs": [],
   "source": [
    "normal_path = \"./IMAGE/normal/3_1/\"\n",
    "sisr_path = \"./IMAGE/Waifu2x_all/3_2/\"\n",
    "\n",
    "#print(ev_psnr(normal_path,sisr_path))\n",
    "print(ev_lpips(normal_path,sisr_path))"
   ]
  },
  {
   "cell_type": "code",
   "execution_count": null,
   "id": "a671caac-8462-4328-a9b1-49de3a2e3aff",
   "metadata": {
    "tags": []
   },
   "outputs": [],
   "source": [
    "normal_path = \"./IMAGE/normal/6_1/\"\n",
    "sisr_path = \"./IMAGE/Waifu2x_all/6_2/\"\n",
    "\n",
    "#print(ev_psnr(normal_path,sisr_path))\n",
    "print(ev_lpips(normal_path,sisr_path))"
   ]
  },
  {
   "cell_type": "code",
   "execution_count": null,
   "id": "9cc518f1-1795-4b81-94c9-30dbb416ae64",
   "metadata": {
    "tags": []
   },
   "outputs": [],
   "source": [
    "normal_path = \"./IMAGE/normal/12_1/\"\n",
    "sisr_path = \"./IMAGE/Waifu2x_all/12_2/\"\n",
    "\n",
    "#print(ev_psnr(normal_path,sisr_path))\n",
    "print(ev_lpips(normal_path,sisr_path))"
   ]
  },
  {
   "cell_type": "code",
   "execution_count": null,
   "id": "38417d34-06ce-4e9f-ab76-c9e4bb467f35",
   "metadata": {
    "tags": []
   },
   "outputs": [],
   "source": [
    "normal_path = \"./IMAGE/Real-ESRGAN/3_2/\"\n",
    "sisr_path = \"./IMAGE/Waifu2x_all/3_2/\"\n",
    "\n",
    "#print(ev_psnr(normal_path,sisr_path))\n",
    "print(ev_lpips(normal_path,sisr_path))"
   ]
  },
  {
   "cell_type": "code",
   "execution_count": null,
   "id": "3c0ad800-3f47-482a-bf15-24d69a36bf94",
   "metadata": {
    "tags": []
   },
   "outputs": [],
   "source": [
    "normal_path = \"./IMAGE/Real-ESRGAN/6_2/\"\n",
    "sisr_path = \"./IMAGE/Waifu2x_all/6_2/\"\n",
    "\n",
    "#print(ev_psnr(normal_path,sisr_path))\n",
    "print(ev_lpips(normal_path,sisr_path))"
   ]
  },
  {
   "cell_type": "code",
   "execution_count": null,
   "id": "25867c31-da5f-43bb-a8a9-ee35c5debf5a",
   "metadata": {
    "tags": []
   },
   "outputs": [],
   "source": [
    "normal_path = \"./IMAGE/Real-ESRGAN/12_2/\"\n",
    "sisr_path = \"./IMAGE/Waifu2x_all/12_2/\"\n",
    "\n",
    "#print(ev_psnr(normal_path,sisr_path))\n",
    "print(ev_lpips(normal_path,sisr_path))"
   ]
  },
  {
   "cell_type": "code",
   "execution_count": null,
   "id": "daee916f-af0f-4443-9918-57156d97208b",
   "metadata": {},
   "outputs": [],
   "source": []
  }
 ],
 "metadata": {
  "kernelspec": {
   "display_name": "Python 3 (ipykernel)",
   "language": "python",
   "name": "python3"
  },
  "language_info": {
   "codemirror_mode": {
    "name": "ipython",
    "version": 3
   },
   "file_extension": ".py",
   "mimetype": "text/x-python",
   "name": "python",
   "nbconvert_exporter": "python",
   "pygments_lexer": "ipython3",
   "version": "3.10.10"
  }
 },
 "nbformat": 4,
 "nbformat_minor": 5
}
